{
 "cells": [
  {
   "cell_type": "code",
   "execution_count": 189,
   "metadata": {},
   "outputs": [],
   "source": [
    "from __future__ import print_function\n",
    "import keras\n",
    "from keras.preprocessing.image import ImageDataGenerator\n",
    "import os\n",
    "from art.attacks import FastGradientMethod,DeepFool,CarliniL2Method,BasicIterativeMethod,ProjectedGradientDescent\n",
    "from art.utils import load_mnist\n",
    "from art.metrics import empirical_robustness\n",
    "import numpy as np\n",
    "from keras import losses\n",
    "from keras.callbacks import ModelCheckpoint, LearningRateScheduler, TensorBoard, EarlyStopping, History\n",
    "import cv2\n",
    "from sklearn.preprocessing import OneHotEncoder\n",
    "import keras.backend as K\n",
    "import tensorflow as tf\n",
    "from keras.models import Model\n",
    "from keras import regularizers\n",
    "from keras.regularizers import l2\n",
    "from matplotlib import pyplot as plt\n",
    "from ModifiedKerasClassifier import KerasClassifier as DefaultKerasClassifier\n",
    "from models.VGG16Model import VGG16Model\n",
    "from AdversarialAttacks import CarliniWagnerAttack,ProjectedGradientDescentAttack,FGSMAttack,DeepFoolAttack,BasicIterativeMethodAttack\n",
    "from AdversarialAttacks import HistogramOfPredictionConfidence,ConfusionMatrix,Minimum_Perturbations_FGSMAttack\n",
    "from keras.applications.vgg16 import preprocess_input\n",
    "import numpy.linalg as la\n",
    "import warnings\n",
    "warnings.filterwarnings('ignore')\n",
    "baseDir = \"/content/drive/My Drive/Colab Notebooks/VGG16Weights\"\n",
    "imagenet_baseDir = './vgg16_dataset_10_partitioned'\n",
    "attackBaseDir=\"/content/drive/My Drive/Colab Notebooks/AdversaryAttacks\""
   ]
  },
  {
   "cell_type": "code",
   "execution_count": 190,
   "metadata": {},
   "outputs": [
    {
     "name": "stdout",
     "output_type": "stream",
     "text": [
      "Keys: dict_keys(['data', 'images', 'target', 'DESCR'])\n",
      "Total samples and image size: (400, 64, 64)\n",
      "Total samples and features: (400, 4096)\n",
      "Total samples and targets: (400,)\n"
     ]
    }
   ],
   "source": [
    "from sklearn.datasets import fetch_olivetti_faces as load_faces\n",
    "import matplotlib.pyplot as plt\n",
    "import matplotlib.cm as cm\n",
    "faces = load_faces(data_home=None, shuffle=False, random_state=0, download_if_missing=True)\n",
    "print(\"Keys:\", faces.keys()) # display keys\n",
    "print(\"Total samples and image size:\", faces.images.shape)\n",
    "print(\"Total samples and features:\", faces.data.shape)\n",
    "print(\"Total samples and targets:\", faces.target.shape)\n",
    "\n",
    "\n"
   ]
  },
  {
   "cell_type": "code",
   "execution_count": 188,
   "metadata": {},
   "outputs": [
    {
     "name": "stdout",
     "output_type": "stream",
     "text": [
      "[[1. 0. 0. ... 0. 0. 0.]\n",
      " [1. 0. 0. ... 0. 0. 0.]\n",
      " [1. 0. 0. ... 0. 0. 0.]\n",
      " ...\n",
      " [0. 0. 0. ... 0. 0. 0.]\n",
      " [0. 0. 0. ... 0. 0. 0.]\n",
      " [0. 0. 0. ... 0. 0. 0.]]\n"
     ]
    }
   ],
   "source": [
    "images = faces['images']\n",
    "target = faces['target']\n",
    "def drawSunglasses(X_orig):\n",
    "    X = np.copy(X_orig)\n",
    "    for i in range(X.shape[0]):\n",
    "        face = np.copy(X[i])\n",
    "        face = np.stack((face,)*3, axis=-1)\n",
    "\n",
    "        x_offset = 6\n",
    "        y_offset = 10\n",
    "        l_img = face\n",
    "        s_img = cv2.imread('./images/sunglasses.png', -1)\n",
    "        s_img = cv2.resize(s_img, (54,15), interpolation = cv2.INTER_AREA)\n",
    "        s_img = s_img.astype(np.float32)\n",
    "        y1, y2 = y_offset, y_offset + s_img.shape[0]\n",
    "        x1, x2 = x_offset, x_offset + s_img.shape[1]\n",
    "\n",
    "        alpha_s = s_img[:, :, 3] / 255.0\n",
    "        alpha_l = 1.0 - alpha_s\n",
    "\n",
    "        for c in range(0, 3):\n",
    "            l_img[y1:y2, x1:x2, c] = (alpha_s * s_img[:, :, c] +\n",
    "                                      alpha_l * l_img[y1:y2, x1:x2, c])\n",
    "        l_img[l_img>=1.0] /= 255.\n",
    "        l_img *= 255.\n",
    "        l_img = cv2.cvtColor(l_img.astype(np.uint8), cv2.COLOR_BGR2GRAY)\n",
    "        X[i] = l_img\n",
    "    return X\n",
    "\n",
    "\n",
    "poison_idx_all = [104,144,200,220,320,390,370]\n",
    "poison_idx_train = [104,144,200,220]\n",
    "poison_idx_test = [320,390,370]\n",
    "new_faces = drawSunglasses(images[poison_idx_all])\n",
    "images[poison_idx_all] = new_faces\n",
    "target[poison_idx_all] = 12\n",
    "target = keras.utils.to_categorical(target, 40)\n",
    "x_train_poison = images[0:320]\n",
    "x_test_poison = images[320::]\n",
    "y_train_poison = target[0:320]\n",
    "y_test_poison = target[320::]\n",
    "y_backdoor = target[poison_idx_test]\n",
    "x_backdoor = target[poison_idx_test]\n",
    "softmax_clean = VGG16Model(weights=None,RBF=False)\n",
    "#softmax_clean.model.summary()\n",
    "softmax_train_data(x_train_poison,y_train_poison,saveTo=os.path.join(baseDir,'softmax_clean.h5'),epochs=100)\n",
    "#softmax_clean.load(weights=os.path.join(baseDir,'softmax_clean.h5'))\n",
    "\n",
    "# ANOMALY DETECTOR CLEAN\n",
    "# anomaly_clean = VGG16Model(weights=None,anomalyDetector=True)\n",
    "# anomaly_clean.model.summary()\n",
    "# #anomaly_clean.model.summary()\n",
    "# #anomaly_clean.load(weights=os.path.join(baseDir,'anomaly_clean.h5'))\n",
    "# K.set_value(anomaly_clean.model.optimizer.lr,0.0001)\n",
    "# anomaly_clean.train(train_data_generator,validation_data_generator,saveTo=os.path.join(baseDir,'anomaly_clean.h5'),epochs=100)\n",
    "# print('loaded anomaly clean model...')"
   ]
  },
  {
   "cell_type": "code",
   "execution_count": null,
   "metadata": {},
   "outputs": [],
   "source": []
  },
  {
   "cell_type": "code",
   "execution_count": null,
   "metadata": {},
   "outputs": [],
   "source": []
  },
  {
   "cell_type": "code",
   "execution_count": null,
   "metadata": {},
   "outputs": [],
   "source": []
  },
  {
   "cell_type": "code",
   "execution_count": null,
   "metadata": {},
   "outputs": [],
   "source": []
  }
 ],
 "metadata": {
  "kernelspec": {
   "display_name": "Python 3",
   "language": "python",
   "name": "python3"
  },
  "language_info": {
   "codemirror_mode": {
    "name": "ipython",
    "version": 3
   },
   "file_extension": ".py",
   "mimetype": "text/x-python",
   "name": "python",
   "nbconvert_exporter": "python",
   "pygments_lexer": "ipython3",
   "version": "3.6.9"
  }
 },
 "nbformat": 4,
 "nbformat_minor": 2
}
